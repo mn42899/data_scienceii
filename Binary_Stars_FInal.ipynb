{
 "cells": [
  {
   "cell_type": "code",
   "execution_count": 1,
   "metadata": {},
   "outputs": [
    {
     "name": "stderr",
     "output_type": "stream",
     "text": [
      "/Users/steven.souksavath/Library/Python/3.9/lib/python/site-packages/urllib3/__init__.py:35: NotOpenSSLWarning: urllib3 v2 only supports OpenSSL 1.1.1+, currently the 'ssl' module is compiled with 'LibreSSL 2.8.3'. See: https://github.com/urllib3/urllib3/issues/3020\n",
      "  warnings.warn(\n"
     ]
    }
   ],
   "source": [
    "import pandas as pd\n",
    "import numpy as np\n",
    "import matplotlib.pyplot as plt\n",
    "import seaborn as sns\n",
    "\n",
    "\n",
    "import re\n",
    "from nltk.corpus import stopwords\n",
    "from nltk.tokenize import word_tokenize\n",
    "from nltk.stem import WordNetLemmatizer\n",
    "from gensim.models import Word2Vec\n",
    "import nltk"
   ]
  },
  {
   "cell_type": "code",
   "execution_count": 2,
   "metadata": {},
   "outputs": [],
   "source": [
    "file_path = ('/Users/steven.souksavath/Downloads/Recipe Reviews and User Feedback Dataset.csv')\n",
    "df = pd.read_csv(file_path)"
   ]
  },
  {
   "cell_type": "code",
   "execution_count": 3,
   "metadata": {},
   "outputs": [
    {
     "name": "stdout",
     "output_type": "stream",
     "text": [
      "Original dataset shape: (18182, 15)\n",
      "Dataset shape after removing duplicates: (17880, 15)\n",
      "Removed 302 duplicate comments\n"
     ]
    }
   ],
   "source": [
    "# Remove Duplicate Recipes\n",
    "\n",
    "#  Store original shape for comparison\n",
    "original_shape = df.shape\n",
    "\n",
    "# Drop duplicates in-place based on comment text, user_id, and recipe_code\n",
    "df.drop_duplicates(\n",
    "    subset=['text', 'user_id', 'recipe_code'],\n",
    "    keep='first',\n",
    "    inplace=True\n",
    ")\n",
    "\n",
    "# Show the impact of duplication\n",
    "print(\"Original dataset shape:\", original_shape)\n",
    "print(\"Dataset shape after removing duplicates:\", df.shape)\n",
    "print(f\"Removed {original_shape[0] - df.shape[0]} duplicate comments\")\n",
    "\n",
    "#Dropping variables\n",
    "df.isnull().sum()\n",
    "df.dropna()\n",
    "\n",
    "\n",
    "#Fixing the column name\n",
    "df.rename(columns={'Unnamed: 0': 'num_records'}, inplace=True)\n",
    "\n",
    "\n",
    "#Change \"created at\" variable to univerex to UTC\n",
    "\n",
    "df['created_at_utc'] = pd.to_datetime(df['created_at'], unit='s', utc=True)"
   ]
  },
  {
   "cell_type": "code",
   "execution_count": 4,
   "metadata": {},
   "outputs": [
    {
     "name": "stderr",
     "output_type": "stream",
     "text": [
      "[nltk_data] Downloading package punkt to\n",
      "[nltk_data]     /Users/steven.souksavath/nltk_data...\n",
      "[nltk_data]   Package punkt is already up-to-date!\n",
      "[nltk_data] Downloading package stopwords to\n",
      "[nltk_data]     /Users/steven.souksavath/nltk_data...\n",
      "[nltk_data]   Package stopwords is already up-to-date!\n",
      "[nltk_data] Downloading package wordnet to\n",
      "[nltk_data]     /Users/steven.souksavath/nltk_data...\n",
      "[nltk_data]   Package wordnet is already up-to-date!\n"
     ]
    },
    {
     "data": {
      "text/plain": [
       "True"
      ]
     },
     "execution_count": 4,
     "metadata": {},
     "output_type": "execute_result"
    }
   ],
   "source": [
    "import nltk\n",
    "\n",
    "nltk.download('punkt')\n",
    "nltk.download('stopwords')\n",
    "nltk.download('wordnet')"
   ]
  },
  {
   "cell_type": "code",
   "execution_count": 5,
   "metadata": {},
   "outputs": [],
   "source": [
    "# Replace NaN values with an empty string and convert all values to strings\n",
    "df['text'] = df['text'].fillna('').astype(str)"
   ]
  },
  {
   "cell_type": "code",
   "execution_count": 6,
   "metadata": {},
   "outputs": [],
   "source": [
    "# Preprocessing function for text\n",
    "def preprocess_text(text):\n",
    "    # Lowercase text\n",
    "    text = text.lower()\n",
    "    # Remove punctuation\n",
    "    text = re.sub(r'[^\\w\\s]', '', text)\n",
    "    # Remove special characters\n",
    "    text = re.sub(r'[^\\x00-\\x7F]+', '', text)\n",
    "    # Remove digits\n",
    "    text = re.sub(r'\\d+', '', text)\n",
    "    # Tokenize text\n",
    "    tokens = word_tokenize(text)\n",
    "    # Remove stopwords\n",
    "    stop_words = set(stopwords.words('english'))\n",
    "    tokens = [word for word in tokens if word not in stop_words]\n",
    "    # Lemmatize tokens\n",
    "    lemmatizer = WordNetLemmatizer()\n",
    "    tokens = [lemmatizer.lemmatize(word) for word in tokens]\n",
    "    # Join tokens back into a string\n",
    "    return ' '.join(tokens)\n",
    "\n",
    "# Apply preprocessing directly to the 'text' column - Text is already tokenized\n",
    "df['text'] = df['text'].apply(preprocess_text)"
   ]
  },
  {
   "cell_type": "code",
   "execution_count": 7,
   "metadata": {},
   "outputs": [],
   "source": [
    "from gensim.models import Word2Vec\n",
    "\n",
    "# Prepare data for Word2Vec\n",
    "sentences = df['text'].tolist()\n",
    "\n",
    "# Train Word2Vec model\n",
    "word2vec_model = Word2Vec(sentences, vector_size=100, window=5, min_count=2, workers=4, sg=1)"
   ]
  },
  {
   "cell_type": "code",
   "execution_count": 8,
   "metadata": {},
   "outputs": [],
   "source": [
    "# Function to compute average Word2Vec embedding for a sentence\n",
    "def get_sentence_vector(tokens, model):\n",
    "    # Get vectors for words that exist in the Word2Vec vocabulary\n",
    "    vectors = [model.wv[word] for word in tokens if word in model.wv]\n",
    "    # Return the average vector (or a zero vector if no words in vocabulary)\n",
    "    return np.mean(vectors, axis=0) if vectors else np.zeros(model.vector_size)\n",
    "\n",
    "# Apply the function to each tokenized text in the dataset\n",
    "df['sentence_vector'] = df['text'].apply(lambda x: get_sentence_vector(x, word2vec_model))"
   ]
  },
  {
   "cell_type": "code",
   "execution_count": 9,
   "metadata": {},
   "outputs": [],
   "source": [
    "#Function for user sentiment\n",
    "\n",
    "def sentiment_label(row):\n",
    "    if row['stars'] >= 4 or row['stars'] == 0:\n",
    "        return 1  # Positive Sentiment\n",
    "    else:\n",
    "        return 0  # Negetive sentiment\n",
    "\n",
    "df['sentiment'] = df.apply(sentiment_label, axis=1)"
   ]
  },
  {
   "cell_type": "code",
   "execution_count": 10,
   "metadata": {},
   "outputs": [],
   "source": [
    "import re\n",
    "from tensorflow.keras.preprocessing.text import Tokenizer\n",
    "from tensorflow.keras.preprocessing.sequence import pad_sequences\n",
    "\n",
    "# Clean text data\n",
    "df['cleaned_text'] = df['text'].apply(lambda x: re.sub(r'[^a-zA-Z0-9\\s]', '', str(x).lower().strip()))\n",
    "\n",
    "# Tokenize text\n",
    "tokenizer = Tokenizer(num_words=10000)  # Use top 10,000 words\n",
    "tokenizer.fit_on_texts(df['cleaned_text'])\n",
    "\n",
    "sequences = tokenizer.texts_to_sequences(df['cleaned_text'])\n",
    "\n",
    "# Pad sequences\n",
    "max_length = 200  # Max length for padding\n",
    "\n",
    "X = pad_sequences(sequences, maxlen=max_length)\n",
    "\n",
    "# Prepare target variable\n",
    "y = df['sentiment'].values"
   ]
  },
  {
   "cell_type": "code",
   "execution_count": 11,
   "metadata": {},
   "outputs": [],
   "source": [
    "from sklearn.model_selection import train_test_split\n",
    "\n",
    "X_train, X_test, y_train, y_test = train_test_split(X, y, test_size=0.2, stratify=y, random_state=42)"
   ]
  },
  {
   "cell_type": "code",
   "execution_count": 12,
   "metadata": {},
   "outputs": [],
   "source": [
    "from tensorflow.keras.models import Sequential\n",
    "from tensorflow.keras.layers import Embedding, LSTM, Dense, Dropout, BatchNormalization\n",
    "from tensorflow.keras.callbacks import EarlyStopping\n",
    "\n",
    "# Define EarlyStopping\n",
    "early_stopping = EarlyStopping(\n",
    "    monitor='val_loss',  # Metric to monitor\n",
    "    patience=3,          # Stop after 3 epochs of no improvement\n",
    "    restore_best_weights=True  # Restore the best weights at the end\n",
    ")"
   ]
  },
  {
   "cell_type": "markdown",
   "metadata": {},
   "source": [
    "# RNN"
   ]
  },
  {
   "cell_type": "code",
   "execution_count": 14,
   "metadata": {},
   "outputs": [
    {
     "name": "stdout",
     "output_type": "stream",
     "text": [
      "Epoch 1/5\n"
     ]
    },
    {
     "name": "stderr",
     "output_type": "stream",
     "text": [
      "/Users/steven.souksavath/Library/Python/3.9/lib/python/site-packages/keras/src/layers/core/embedding.py:90: UserWarning: Argument `input_length` is deprecated. Just remove it.\n",
      "  warnings.warn(\n"
     ]
    },
    {
     "name": "stdout",
     "output_type": "stream",
     "text": [
      "\u001b[1m447/447\u001b[0m \u001b[32m━━━━━━━━━━━━━━━━━━━━\u001b[0m\u001b[37m\u001b[0m \u001b[1m32s\u001b[0m 68ms/step - accuracy: 0.8508 - binary_f1_score: 0.9132 - loss: 0.4273 - val_accuracy: 0.9446 - val_binary_f1_score: 0.9715 - val_loss: 0.1889\n",
      "Epoch 2/5\n",
      "\u001b[1m447/447\u001b[0m \u001b[32m━━━━━━━━━━━━━━━━━━━━\u001b[0m\u001b[37m\u001b[0m \u001b[1m34s\u001b[0m 76ms/step - accuracy: 0.9613 - binary_f1_score: 0.9591 - loss: 0.1239 - val_accuracy: 0.9390 - val_binary_f1_score: 0.9463 - val_loss: 0.1775\n",
      "Epoch 3/5\n",
      "\u001b[1m447/447\u001b[0m \u001b[32m━━━━━━━━━━━━━━━━━━━━\u001b[0m\u001b[37m\u001b[0m \u001b[1m35s\u001b[0m 79ms/step - accuracy: 0.9695 - binary_f1_score: 0.9555 - loss: 0.0930 - val_accuracy: 0.9511 - val_binary_f1_score: 0.9654 - val_loss: 0.1820\n",
      "Epoch 4/5\n",
      "\u001b[1m447/447\u001b[0m \u001b[32m━━━━━━━━━━━━━━━━━━━━\u001b[0m\u001b[37m\u001b[0m \u001b[1m35s\u001b[0m 78ms/step - accuracy: 0.9775 - binary_f1_score: 0.9512 - loss: 0.0650 - val_accuracy: 0.9471 - val_binary_f1_score: 0.9605 - val_loss: 0.1949\n",
      "Epoch 5/5\n",
      "\u001b[1m447/447\u001b[0m \u001b[32m━━━━━━━━━━━━━━━━━━━━\u001b[0m\u001b[37m\u001b[0m \u001b[1m34s\u001b[0m 77ms/step - accuracy: 0.9839 - binary_f1_score: 0.9516 - loss: 0.0488 - val_accuracy: 0.9499 - val_binary_f1_score: 0.9643 - val_loss: 0.2092\n"
     ]
    },
    {
     "data": {
      "text/plain": [
       "<keras.src.callbacks.history.History at 0x32b4ffd30>"
      ]
     },
     "execution_count": 14,
     "metadata": {},
     "output_type": "execute_result"
    }
   ],
   "source": [
    "import tensorflow as tf\n",
    "from tensorflow.keras.metrics import Metric\n",
    "from tensorflow.keras.models import Sequential\n",
    "from tensorflow.keras.layers import Embedding, LSTM, Dense, Dropout, BatchNormalization\n",
    "from tensorflow.keras.optimizers import Adam\n",
    "\n",
    "# Custom F1 Score Metric for Binary Classification\n",
    "class BinaryF1Score(Metric):\n",
    "    def __init__(self, name='binary_f1_score', **kwargs):\n",
    "        super(BinaryF1Score, self).__init__(name=name, **kwargs)\n",
    "        self.true_positives = self.add_weight(name='tp', initializer='zeros')\n",
    "        self.false_positives = self.add_weight(name='fp', initializer='zeros')\n",
    "        self.false_negatives = self.add_weight(name='fn', initializer='zeros')\n",
    "\n",
    "    def update_state(self, y_true, y_pred, sample_weight=None):\n",
    "        y_pred = tf.round(y_pred)  # Convert probabilities to binary predictions\n",
    "        y_true = tf.cast(y_true, tf.float32)\n",
    "        self.true_positives.assign_add(tf.reduce_sum(y_true * y_pred))\n",
    "        self.false_positives.assign_add(tf.reduce_sum((1 - y_true) * y_pred))\n",
    "        self.false_negatives.assign_add(tf.reduce_sum(y_true * (1 - y_pred)))\n",
    "\n",
    "    def result(self):\n",
    "        precision = self.true_positives / (self.true_positives + self.false_positives + tf.keras.backend.epsilon())\n",
    "        recall = self.true_positives / (self.true_positives + self.false_negatives + tf.keras.backend.epsilon())\n",
    "        f1 = 2 * (precision * recall) / (precision + recall + tf.keras.backend.epsilon())\n",
    "        return f1\n",
    "\n",
    "    def reset_states(self):\n",
    "        self.true_positives.assign(0.0)\n",
    "        self.false_positives.assign(0.0)\n",
    "        self.false_negatives.assign(0.0)\n",
    "\n",
    "# Define the RNN model for Binary Classification\n",
    "rnn_model = Sequential([\n",
    "    Embedding(input_dim=10000, output_dim=128, input_length=max_length),  # Embedding layer\n",
    "    LSTM(64, return_sequences=False),  # LSTM layer\n",
    "    Dropout(0.5),  # Dropout for regularization\n",
    "    Dense(32, activation='relu'),  # Fully connected layer\n",
    "    BatchNormalization(),  # Batch Normalization after Dense\n",
    "    Dense(1, activation='sigmoid')  # Output layer with sigmoid for binary classification\n",
    "])\n",
    "\n",
    "# Compile the model\n",
    "rnn_model.compile(\n",
    "    optimizer=Adam(learning_rate=0.001),\n",
    "    loss='binary_crossentropy',  # Binary classification loss\n",
    "    metrics=[BinaryF1Score(), 'accuracy']  # Use custom F1 metric and accuracy\n",
    ")\n",
    "\n",
    "# Train the model\n",
    "rnn_model.fit(\n",
    "    X_train, y_train,  # Ensure y_train contains binary labels (0 or 1)\n",
    "    validation_data=(X_test, y_test),  # Ensure y_test contains binary labels (0 or 1)\n",
    "    epochs=5,\n",
    "    batch_size=32,\n",
    "    callbacks=[early_stopping]\n",
    ")"
   ]
  },
  {
   "cell_type": "markdown",
   "metadata": {},
   "source": [
    "# CNN"
   ]
  },
  {
   "cell_type": "code",
   "execution_count": 15,
   "metadata": {},
   "outputs": [
    {
     "name": "stdout",
     "output_type": "stream",
     "text": [
      "Epoch 1/5\n",
      "\u001b[1m447/447\u001b[0m \u001b[32m━━━━━━━━━━━━━━━━━━━━\u001b[0m\u001b[37m\u001b[0m \u001b[1m8s\u001b[0m 16ms/step - accuracy: 0.7817 - binary_f1_score: 0.8691 - loss: 0.4850 - val_accuracy: 0.9449 - val_binary_f1_score: 0.9714 - val_loss: 0.1686\n",
      "Epoch 2/5\n",
      "\u001b[1m447/447\u001b[0m \u001b[32m━━━━━━━━━━━━━━━━━━━━\u001b[0m\u001b[37m\u001b[0m \u001b[1m7s\u001b[0m 17ms/step - accuracy: 0.9557 - binary_f1_score: 0.9630 - loss: 0.1342 - val_accuracy: 0.9527 - val_binary_f1_score: 0.9644 - val_loss: 0.1518\n",
      "Epoch 3/5\n",
      "\u001b[1m447/447\u001b[0m \u001b[32m━━━━━━━━━━━━━━━━━━━━\u001b[0m\u001b[37m\u001b[0m \u001b[1m7s\u001b[0m 16ms/step - accuracy: 0.9755 - binary_f1_score: 0.9522 - loss: 0.0769 - val_accuracy: 0.9516 - val_binary_f1_score: 0.9605 - val_loss: 0.1519\n",
      "Epoch 4/5\n",
      "\u001b[1m447/447\u001b[0m \u001b[32m━━━━━━━━━━━━━━━━━━━━\u001b[0m\u001b[37m\u001b[0m \u001b[1m7s\u001b[0m 17ms/step - accuracy: 0.9801 - binary_f1_score: 0.9507 - loss: 0.0565 - val_accuracy: 0.9494 - val_binary_f1_score: 0.9532 - val_loss: 0.1641\n",
      "Epoch 5/5\n",
      "\u001b[1m447/447\u001b[0m \u001b[32m━━━━━━━━━━━━━━━━━━━━\u001b[0m\u001b[37m\u001b[0m \u001b[1m7s\u001b[0m 16ms/step - accuracy: 0.9867 - binary_f1_score: 0.9531 - loss: 0.0397 - val_accuracy: 0.9491 - val_binary_f1_score: 0.9565 - val_loss: 0.1994\n"
     ]
    },
    {
     "data": {
      "text/plain": [
       "<keras.src.callbacks.history.History at 0x32f896a90>"
      ]
     },
     "execution_count": 15,
     "metadata": {},
     "output_type": "execute_result"
    }
   ],
   "source": [
    "from tensorflow.keras.models import Sequential\n",
    "from tensorflow.keras.layers import Embedding, Conv1D, GlobalMaxPooling1D, Dropout, Dense, BatchNormalization\n",
    "from tensorflow.keras.optimizers import Adam\n",
    "\n",
    "# Define the CNN model for Binary Classification\n",
    "cnn_model = Sequential([\n",
    "    Embedding(input_dim=10000, output_dim=128, input_length=max_length),  # Embedding layer\n",
    "    Conv1D(128, 5, activation='relu'),  # 1D Convolutional layer\n",
    "    GlobalMaxPooling1D(),  # Global max pooling\n",
    "    Dropout(0.5),  # Dropout for regularization\n",
    "    Dense(32, activation='relu'),  # Fully connected layer\n",
    "    BatchNormalization(),  # Batch Normalization\n",
    "    Dense(1, activation='sigmoid')  # Output layer with sigmoid for binary classification\n",
    "])\n",
    "\n",
    "# Compile the CNN model\n",
    "cnn_model.compile(\n",
    "    optimizer=Adam(learning_rate=0.001),\n",
    "    loss='binary_crossentropy',  # Binary classification loss\n",
    "    metrics=[BinaryF1Score(), 'accuracy']  # Include Binary F1 Score\n",
    ")\n",
    "\n",
    "# Train the CNN model\n",
    "cnn_model.fit(\n",
    "    X_train, y_train,\n",
    "    validation_data=(X_test, y_test),\n",
    "    epochs=5,\n",
    "    batch_size=32,\n",
    "    callbacks=[early_stopping]\n",
    ")\n"
   ]
  },
  {
   "cell_type": "markdown",
   "metadata": {},
   "source": [
    "# LSTM"
   ]
  },
  {
   "cell_type": "code",
   "execution_count": 16,
   "metadata": {},
   "outputs": [
    {
     "name": "stdout",
     "output_type": "stream",
     "text": [
      "Epoch 1/5\n",
      "\u001b[1m447/447\u001b[0m \u001b[32m━━━━━━━━━━━━━━━━━━━━\u001b[0m\u001b[37m\u001b[0m \u001b[1m34s\u001b[0m 72ms/step - accuracy: 0.8560 - binary_f1_score: 0.9141 - loss: 0.4330 - val_accuracy: 0.9446 - val_binary_f1_score: 0.9715 - val_loss: 0.1911\n",
      "Epoch 2/5\n",
      "\u001b[1m447/447\u001b[0m \u001b[32m━━━━━━━━━━━━━━━━━━━━\u001b[0m\u001b[37m\u001b[0m \u001b[1m32s\u001b[0m 72ms/step - accuracy: 0.9585 - binary_f1_score: 0.9577 - loss: 0.1258 - val_accuracy: 0.9497 - val_binary_f1_score: 0.9677 - val_loss: 0.1713\n",
      "Epoch 3/5\n",
      "\u001b[1m447/447\u001b[0m \u001b[32m━━━━━━━━━━━━━━━━━━━━\u001b[0m\u001b[37m\u001b[0m \u001b[1m34s\u001b[0m 76ms/step - accuracy: 0.9690 - binary_f1_score: 0.9510 - loss: 0.0909 - val_accuracy: 0.9480 - val_binary_f1_score: 0.9658 - val_loss: 0.1867\n"
     ]
    },
    {
     "data": {
      "text/plain": [
       "<keras.src.callbacks.history.History at 0x32d1ece80>"
      ]
     },
     "execution_count": 16,
     "metadata": {},
     "output_type": "execute_result"
    }
   ],
   "source": [
    "from tensorflow.keras.models import Sequential\n",
    "from tensorflow.keras.layers import Embedding, LSTM, Dense, Dropout, BatchNormalization\n",
    "from tensorflow.keras.optimizers import Adam\n",
    "\n",
    "# Define the LSTM model for Binary Classification\n",
    "lstm_model = Sequential([\n",
    "    Embedding(input_dim=10000, output_dim=128, input_length=max_length),  # Embedding layer\n",
    "    LSTM(64, return_sequences=False),  # LSTM layer\n",
    "    Dropout(0.5),  # Dropout for regularization\n",
    "    Dense(32, activation='relu'),  # Fully connected layer\n",
    "    BatchNormalization(),  # Batch Normalization\n",
    "    Dense(1, activation='sigmoid')  # Output layer with sigmoid for binary classification\n",
    "])\n",
    "\n",
    "# Compile the LSTM model\n",
    "lstm_model.compile(\n",
    "    optimizer=Adam(learning_rate=0.001),\n",
    "    loss='binary_crossentropy',  # Binary classification loss\n",
    "    metrics=[BinaryF1Score(), 'accuracy']  # Include Binary F1 Score\n",
    ")\n",
    "\n",
    "# Train the LSTM model\n",
    "lstm_model.fit(\n",
    "    X_train, y_train,\n",
    "    validation_data=(X_test, y_test),\n",
    "    epochs=5,\n",
    "    batch_size=32,\n",
    "    callbacks=[early_stopping]\n",
    ")"
   ]
  },
  {
   "cell_type": "code",
   "execution_count": 17,
   "metadata": {},
   "outputs": [
    {
     "name": "stdout",
     "output_type": "stream",
     "text": [
      "Unique classes in y_test: {0, 1}\n"
     ]
    }
   ],
   "source": [
    "print(\"Unique classes in y_test:\", set(y_test))"
   ]
  },
  {
   "cell_type": "code",
   "execution_count": 19,
   "metadata": {},
   "outputs": [
    {
     "name": "stdout",
     "output_type": "stream",
     "text": [
      "\u001b[1m112/112\u001b[0m \u001b[32m━━━━━━━━━━━━━━━━━━━━\u001b[0m\u001b[37m\u001b[0m \u001b[1m2s\u001b[0m 17ms/step - accuracy: 0.9420 - binary_f1_score: 0.9503 - loss: 0.1694\n",
      "RNN - Loss: 0.1775, Accuracy: 0.9390, Binary F1: 0.9463\n",
      "\u001b[1m112/112\u001b[0m \u001b[32m━━━━━━━━━━━━━━━━━━━━\u001b[0m\u001b[37m\u001b[0m \u001b[1m2s\u001b[0m 18ms/step\n",
      "\n",
      "RNN Classification Report:\n",
      "              precision    recall  f1-score   support\n",
      "\n",
      "    Negative       0.45      0.43      0.44       198\n",
      "    Positive       0.97      0.97      0.97      3378\n",
      "\n",
      "    accuracy                           0.94      3576\n",
      "   macro avg       0.71      0.70      0.70      3576\n",
      "weighted avg       0.94      0.94      0.94      3576\n",
      "\n"
     ]
    },
    {
     "data": {
      "image/png": "[encoded data removed]",
      "text/plain": [
       "<Figure size 640x480 with 2 Axes>"
      ]
     },
     "metadata": {},
     "output_type": "display_data"
    },
    {
     "name": "stdout",
     "output_type": "stream",
     "text": [
      "\u001b[1m112/112\u001b[0m \u001b[32m━━━━━━━━━━━━━━━━━━━━\u001b[0m\u001b[37m\u001b[0m \u001b[1m1s\u001b[0m 5ms/step - accuracy: 0.9582 - binary_f1_score: 0.9681 - loss: 0.1336\n",
      "CNN - Loss: 0.1518, Accuracy: 0.9527, Binary F1: 0.9644\n",
      "\u001b[1m112/112\u001b[0m \u001b[32m━━━━━━━━━━━━━━━━━━━━\u001b[0m\u001b[37m\u001b[0m \u001b[1m1s\u001b[0m 5ms/step\n",
      "\n",
      "CNN Classification Report:\n",
      "              precision    recall  f1-score   support\n",
      "\n",
      "    Negative       0.75      0.22      0.34       198\n",
      "    Positive       0.96      1.00      0.98      3378\n",
      "\n",
      "    accuracy                           0.95      3576\n",
      "   macro avg       0.86      0.61      0.66      3576\n",
      "weighted avg       0.94      0.95      0.94      3576\n",
      "\n"
     ]
    },
    {
     "data": {
      "image/png": "[encoded data removed]",
      "text/plain": [
       "<Figure size 640x480 with 2 Axes>"
      ]
     },
     "metadata": {},
     "output_type": "display_data"
    },
    {
     "name": "stdout",
     "output_type": "stream",
     "text": [
      "\u001b[1m112/112\u001b[0m \u001b[32m━━━━━━━━━━━━━━━━━━━━\u001b[0m\u001b[37m\u001b[0m \u001b[1m2s\u001b[0m 18ms/step - accuracy: 0.9500 - binary_f1_score: 0.9743 - loss: 0.1787\n",
      "LSTM - Loss: 0.1911, Accuracy: 0.9446, Binary F1: 0.9715\n",
      "\u001b[1m112/112\u001b[0m \u001b[32m━━━━━━━━━━━━━━━━━━━━\u001b[0m\u001b[37m\u001b[0m \u001b[1m2s\u001b[0m 20ms/step\n",
      "\n",
      "LSTM Classification Report:\n",
      "              precision    recall  f1-score   support\n",
      "\n",
      "    Negative       0.00      0.00      0.00       198\n",
      "    Positive       0.94      1.00      0.97      3378\n",
      "\n",
      "    accuracy                           0.94      3576\n",
      "   macro avg       0.47      0.50      0.49      3576\n",
      "weighted avg       0.89      0.94      0.92      3576\n",
      "\n"
     ]
    },
    {
     "name": "stderr",
     "output_type": "stream",
     "text": [
      "/Users/steven.souksavath/Library/Python/3.9/lib/python/site-packages/sklearn/metrics/_classification.py:1531: UndefinedMetricWarning: Precision is ill-defined and being set to 0.0 in labels with no predicted samples. Use `zero_division` parameter to control this behavior.\n",
      "  _warn_prf(average, modifier, f\"{metric.capitalize()} is\", len(result))\n",
      "/Users/steven.souksavath/Library/Python/3.9/lib/python/site-packages/sklearn/metrics/_classification.py:1531: UndefinedMetricWarning: Precision is ill-defined and being set to 0.0 in labels with no predicted samples. Use `zero_division` parameter to control this behavior.\n",
      "  _warn_prf(average, modifier, f\"{metric.capitalize()} is\", len(result))\n",
      "/Users/steven.souksavath/Library/Python/3.9/lib/python/site-packages/sklearn/metrics/_classification.py:1531: UndefinedMetricWarning: Precision is ill-defined and being set to 0.0 in labels with no predicted samples. Use `zero_division` parameter to control this behavior.\n",
      "  _warn_prf(average, modifier, f\"{metric.capitalize()} is\", len(result))\n"
     ]
    },
    {
     "data": {
      "image/png": "[encoded data removed]",
      "text/plain": [
       "<Figure size 640x480 with 2 Axes>"
      ]
     },
     "metadata": {},
     "output_type": "display_data"
    }
   ],
   "source": [
    "from sklearn.metrics import classification_report, confusion_matrix, ConfusionMatrixDisplay\n",
    "import matplotlib.pyplot as plt\n",
    "\n",
    "def evaluate_model(model, model_name, X_test, y_test):\n",
    "    # Evaluate the model\n",
    "    results = model.evaluate(X_test, y_test, verbose=1)\n",
    "    print(f\"{model_name} - Loss: {results[0]:.4f}, Accuracy: {results[2]:.4f}, Binary F1: {results[1]:.4f}\")\n",
    "    \n",
    "    # Get predictions\n",
    "    y_pred = (model.predict(X_test) > 0.5).astype(\"int32\")\n",
    "    \n",
    "    # Classification report\n",
    "    print(f\"\\n{model_name} Classification Report:\")\n",
    "    print(classification_report(y_test, y_pred, target_names=['Negative', 'Positive']))\n",
    "    \n",
    "    # Confusion matrix\n",
    "    cm = confusion_matrix(y_test, y_pred)\n",
    "    disp = ConfusionMatrixDisplay(confusion_matrix=cm, display_labels=['Negative', 'Positive'])\n",
    "    disp.plot(cmap=plt.cm.Blues)\n",
    "    plt.title(f\"{model_name} Confusion Matrix\")\n",
    "    plt.show()\n",
    "\n",
    "# Evaluate RNN\n",
    "evaluate_model(rnn_model, \"RNN\", X_test, y_test)\n",
    "\n",
    "# Evaluate CNN\n",
    "evaluate_model(cnn_model, \"CNN\", X_test, y_test)\n",
    "\n",
    "# Evaluate LSTM\n",
    "evaluate_model(lstm_model, \"LSTM\", X_test, y_test)"
   ]
  },
  {
   "cell_type": "code",
   "execution_count": null,
   "metadata": {},
   "outputs": [],
   "source": []
  }
 ],
 "metadata": {
  "kernelspec": {
   "display_name": "Python 3",
   "language": "python",
   "name": "python3"
  },
  "language_info": {
   "codemirror_mode": {
    "name": "ipython",
    "version": 3
   },
   "file_extension": ".py",
   "mimetype": "text/x-python",
   "name": "python",
   "nbconvert_exporter": "python",
   "pygments_lexer": "ipython3",
   "version": "3.9.6"
  }
 },
 "nbformat": 4,
 "nbformat_minor": 2
}
