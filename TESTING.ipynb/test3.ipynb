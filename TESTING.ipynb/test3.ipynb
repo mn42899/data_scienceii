{
 "cells": [
  {
   "cell_type": "markdown",
   "metadata": {},
   "source": []
  },
  {
   "cell_type": "code",
   "execution_count": null,
   "metadata": {
    "vscode": {
     "languageId": "plaintext"
    }
   },
   "outputs": [],
   "source": [
    "How many neurons are in your output layer? Why?"
   ]
  },
  {
   "cell_type": "markdown",
   "metadata": {},
   "source": [
    "Using the dataset provided, build a deep learning model which can predict the Star Rating of a recipe. You can choose whether your model is a regression or classification. Note that the data provided is at a user level, therefore you will need to aggregate the data at a recipe level. As input variables, you're welcome to use the features provided as they are, or any other features you've created in preparation for the exam (e.g., looking at sentiment)."
   ]
  },
  {
   "cell_type": "markdown",
   "metadata": {},
   "source": [
    "Analyze the feature importances from your model. Which features contributed the most to predicting the output and how did you identify their importance?"
   ]
  },
  {
   "cell_type": "markdown",
   "metadata": {},
   "source": [
    "Suppose you work at a restaurant or meal kit delivery company. How would you use a model like this to help drive organizational growth?"
   ]
  }
 ],
 "metadata": {
  "language_info": {
   "name": "python"
  }
 },
 "nbformat": 4,
 "nbformat_minor": 2
}
