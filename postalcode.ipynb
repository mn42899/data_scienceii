{
 "cells": [
  {
   "cell_type": "code",
   "execution_count": 4,
   "metadata": {},
   "outputs": [
    {
     "data": {
      "text/html": [
       "<a download=\"canadian_postal_codes.csv\" href=\"data:text/csv;base64,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\">Download CSV file</a>"
      ],
      "text/plain": [
       "<IPython.core.display.HTML object>"
      ]
     },
     "execution_count": 4,
     "metadata": {},
     "output_type": "execute_result"
    }
   ],
   "source": [
    "import pandas as pd\n",
    "import io\n",
    "import base64\n",
    "from IPython.display import HTML\n",
    "\n",
    "# Data for the CSV\n",
    "data = [\n",
    "    [\"L1A\", \"Port Hope\"],\n",
    "    [\"L2A\", \"Fort Erie\"],\n",
    "    [\"L4A\", \"Stouffville\"],\n",
    "    [\"L5A\", \"Mississauga (Mississauga Valley / East Cooksville)\"],\n",
    "    [\"L6A\", \"Vaughan (Maple)\"],\n",
    "    [\"L7A\", \"Brampton (West)\"],\n",
    "    [\"L9A\", \"Hamilton (Crerar / Bruleville / Hill Park / Inch Park / Centremount / Balfour / Greeningdon / Jerome)\"],\n",
    "    [\"L1B\", \"Bowmanville (East)\"],\n",
    "    [\"L3B\", \"Welland (East)\"],\n",
    "    [\"L4B\", \"Richmond Hill (Southeast)\"],\n",
    "    [\"L5B\", \"Mississauga (West Cooksville / Fairview / City Centre / East Creditview)\"],\n",
    "    [\"L6B\", \"Markham (Cornell, Ontario / Box Grove, Ontario)\"],\n",
    "    [\"L7B\", \"King City\"],\n",
    "    [\"L8B\", \"Hamilton (Waterdown)\"],\n",
    "    [\"L9B\", \"Hamilton (Barnstown / West Chappel / Allison / Ryckmans / Mewburn / Sheldon / Falkirk / Carpenter / Kennedy)\"],\n",
    "    [\"L1C\", \"Bowmanville (West)\"],\n",
    "    [\"L3C\", \"Welland (West)\"],\n",
    "    [\"L4C\", \"Richmond Hill (Southwest)\"],\n",
    "    [\"L5C\", \"Mississauga (West Creditview / Mavis / Erindale)\"],\n",
    "    [\"L6C\", \"Markham (Berczy Village / Cachet / Angus Glen)\"],\n",
    "    [\"L7C\", \"Caledon (Caledon East)\"],\n",
    "    [\"L9C\", \"Hamilton (Southam / Bonnington / Yeoville / Kernighan)\"],\n",
    "    [\"L1E\", \"Courtice (Bowmanville)\"],\n",
    "    [\"L2E\", \"Niagara Falls (Central)\"],\n",
    "    [\"L4E\", \"Richmond Hill (Oak Ridges / Lake Wilcox / Temperanceville)\"],\n",
    "    [\"L5E\", \"Mississauga (Central Lakeview)\"],\n",
    "    [\"L6E\", \"Markham (Wismer Commons / Greensborough)\"],\n",
    "    [\"L7E\", \"Bolton\"],\n",
    "    [\"L8E\", \"Hamilton (Confederation Park / Nashdale / East Kentley / Riverdale / Lakely / Grayside / North Stoney Creek)\"],\n",
    "    [\"L9E\", \"Milton (South)\"],\n",
    "    [\"L3P\", \"Markham (Central)\"],\n",
    "    [\"L4P\", \"Keswick\"],\n",
    "    [\"L5P\", \"Mississauga (YYZ)\"],\n",
    "    [\"L6P\", \"Brampton (North)\"],\n",
    "    [\"L3R\", \"Markham (Outer Southwest)\"],\n",
    "    [\"L4R\", \"Midland\"],\n",
    "    [\"L5R\", \"Mississauga (West Hurontario / SW Gateway)\"],\n",
    "    [\"L6R\", \"Brampton (Northwest)\"],\n",
    "    [\"L3S\", \"Markham (Armadale, Ontario / Milliken, Ontario)\"],\n",
    "    [\"L4S\", \"Richmond Hill (Central)\"],\n",
    "    [\"L5S\", \"Mississauga (Cardiff / NE Gateway)\"],\n",
    "    [\"L6S\", \"Brampton (North Central)\"],\n",
    "    [\"L3T\", \"Thornhill (East)\"],\n",
    "    [\"L4T\", \"Mississauga (Malton)\"],\n",
    "    [\"L5T\", \"Mississauga (Courtney Park / Northeast Gateway)\"],\n",
    "    [\"L6T\", \"Brampton (East)\"],\n",
    "    [\"L1X\", \"Pickering (Central)\"],\n",
    "    [\"L1Y\", \"Pickering (North)\"],\n",
    "    [\"L1Z\", \"Ajax (East)\"],\n",
    "    [\"L3X\", \"Newmarket (Southwest)\"],\n",
    "    [\"L3Y\", \"Newmarket (Northeast)\"],\n",
    "    [\"L3Z\", \"Bradford\"],\n",
    "]\n",
    "\n",
    "# Create DataFrame\n",
    "df = pd.DataFrame(data, columns=[\"Postal Code\", \"Region\"])\n",
    "\n",
    "# Save DataFrame to an in-memory CSV file\n",
    "csv_data = io.StringIO()\n",
    "df.to_csv(csv_data, index=False)\n",
    "csv_data.seek(0)\n",
    "\n",
    "# Encode the CSV data for download\n",
    "b64 = base64.b64encode(csv_data.getvalue().encode()).decode()\n",
    "download_link = f'<a download=\"canadian_postal_codes.csv\" href=\"data:text/csv;base64,{b64}\">Download CSV file</a>'\n",
    "\n",
    "# Display the download link\n",
    "HTML(download_link)"
   ]
  }
 ],
 "metadata": {
  "kernelspec": {
   "display_name": "Python 3",
   "language": "python",
   "name": "python3"
  },
  "language_info": {
   "codemirror_mode": {
    "name": "ipython",
    "version": 3
   },
   "file_extension": ".py",
   "mimetype": "text/x-python",
   "name": "python",
   "nbconvert_exporter": "python",
   "pygments_lexer": "ipython3",
   "version": "3.12.4"
  }
 },
 "nbformat": 4,
 "nbformat_minor": 2
}
